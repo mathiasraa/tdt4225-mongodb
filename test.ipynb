{
 "cells": [
  {
   "cell_type": "code",
   "execution_count": 7,
   "metadata": {},
   "outputs": [],
   "source": [
    "from DbConnector import DbConnector\n",
    "from tabulate import tabulate"
   ]
  },
  {
   "cell_type": "code",
   "execution_count": 8,
   "metadata": {},
   "outputs": [
    {
     "name": "stdout",
     "output_type": "stream",
     "text": [
      "Connected to: 8.1.0\n",
      "You are connected to the database: ('mysql',)\n",
      "-----------------------------------------------\n",
      "\n"
     ]
    }
   ],
   "source": [
    "connection = DbConnector()\n",
    "cursor = connection.cursor\n",
    "db_connection = connection.db_connection"
   ]
  },
  {
   "cell_type": "code",
   "execution_count": 9,
   "metadata": {},
   "outputs": [
    {
     "ename": "AttributeError",
     "evalue": "'DbConnector' object has no attribute 'commit'",
     "output_type": "error",
     "traceback": [
      "\u001b[0;31m---------------------------------------------------------------------------\u001b[0m",
      "\u001b[0;31mAttributeError\u001b[0m                            Traceback (most recent call last)",
      "\u001b[1;32m/Users/mathiasraa/Desktop/ntnu/tdt4225-mysql/test.ipynb Cell 3\u001b[0m line \u001b[0;36m6\n\u001b[1;32m      <a href='vscode-notebook-cell:/Users/mathiasraa/Desktop/ntnu/tdt4225-mysql/test.ipynb#W3sZmlsZQ%3D%3D?line=0'>1</a>\u001b[0m query \u001b[39m=\u001b[39m \u001b[39m\"\"\"\u001b[39m\u001b[39mCREATE TABLE IF NOT EXISTS \u001b[39m\u001b[39m%s\u001b[39;00m\u001b[39m (\u001b[39m\n\u001b[1;32m      <a href='vscode-notebook-cell:/Users/mathiasraa/Desktop/ntnu/tdt4225-mysql/test.ipynb#W3sZmlsZQ%3D%3D?line=1'>2</a>\u001b[0m \u001b[39m            id INT AUTO_INCREMENT NOT NULL PRIMARY KEY,\u001b[39m\n\u001b[1;32m      <a href='vscode-notebook-cell:/Users/mathiasraa/Desktop/ntnu/tdt4225-mysql/test.ipynb#W3sZmlsZQ%3D%3D?line=2'>3</a>\u001b[0m \u001b[39m            name VARCHAR(30))\u001b[39m\n\u001b[1;32m      <a href='vscode-notebook-cell:/Users/mathiasraa/Desktop/ntnu/tdt4225-mysql/test.ipynb#W3sZmlsZQ%3D%3D?line=3'>4</a>\u001b[0m \u001b[39m        \u001b[39m\u001b[39m\"\"\"\u001b[39m\n\u001b[1;32m      <a href='vscode-notebook-cell:/Users/mathiasraa/Desktop/ntnu/tdt4225-mysql/test.ipynb#W3sZmlsZQ%3D%3D?line=4'>5</a>\u001b[0m cursor\u001b[39m.\u001b[39mexecute(query \u001b[39m%\u001b[39m \u001b[39m\"\u001b[39m\u001b[39mPerson\u001b[39m\u001b[39m\"\u001b[39m)\n\u001b[0;32m----> <a href='vscode-notebook-cell:/Users/mathiasraa/Desktop/ntnu/tdt4225-mysql/test.ipynb#W3sZmlsZQ%3D%3D?line=5'>6</a>\u001b[0m connection\u001b[39m.\u001b[39;49mcommit()\n",
      "\u001b[0;31mAttributeError\u001b[0m: 'DbConnector' object has no attribute 'commit'"
     ]
    }
   ],
   "source": [
    "query = \"\"\"CREATE TABLE IF NOT EXISTS %s (\n",
    "            id INT AUTO_INCREMENT NOT NULL PRIMARY KEY,\n",
    "            name VARCHAR(30))\n",
    "        \"\"\"\n",
    "cursor.execute(query % \"Person\")\n",
    "db_connection.commit()"
   ]
  },
  {
   "cell_type": "code",
   "execution_count": 4,
   "metadata": {},
   "outputs": [
    {
     "name": "stdout",
     "output_type": "stream",
     "text": [
      "Tables_in_mysql\n",
      "----------------------------------------------------\n",
      "columns_priv\n",
      "component\n",
      "db\n",
      "default_roles\n",
      "engine_cost\n",
      "func\n",
      "general_log\n",
      "global_grants\n",
      "gtid_executed\n",
      "help_category\n",
      "help_keyword\n",
      "help_relation\n",
      "help_topic\n",
      "innodb_index_stats\n",
      "innodb_table_stats\n",
      "ndb_binlog_index\n",
      "password_history\n",
      "plugin\n",
      "procs_priv\n",
      "proxies_priv\n",
      "replication_asynchronous_connection_failover\n",
      "replication_asynchronous_connection_failover_managed\n",
      "replication_group_configuration_version\n",
      "replication_group_member_actions\n",
      "role_edges\n",
      "server_cost\n",
      "servers\n",
      "slave_master_info\n",
      "slave_relay_log_info\n",
      "slave_worker_info\n",
      "slow_log\n",
      "tables_priv\n",
      "time_zone\n",
      "time_zone_leap_second\n",
      "time_zone_name\n",
      "time_zone_transition\n",
      "time_zone_transition_type\n",
      "user\n"
     ]
    }
   ],
   "source": [
    "cursor.execute(\"SHOW TABLES\")\n",
    "rows = cursor.fetchall()\n",
    "print(tabulate(rows, headers=cursor.column_names))"
   ]
  },
  {
   "cell_type": "code",
   "execution_count": null,
   "metadata": {},
   "outputs": [],
   "source": [
    "query = \"DROP TABLE %s\"\n",
    "cursor.execute(query % \"Person\")"
   ]
  },
  {
   "cell_type": "code",
   "execution_count": 10,
   "metadata": {},
   "outputs": [
    {
     "name": "stdout",
     "output_type": "stream",
     "text": [
      "\n",
      "-----------------------------------------------\n",
      "Connection to 8.1.0 is closed\n"
     ]
    }
   ],
   "source": [
    "connection.close_connection()"
   ]
  }
 ],
 "metadata": {
  "kernelspec": {
   "display_name": "mysql",
   "language": "python",
   "name": "python3"
  },
  "language_info": {
   "codemirror_mode": {
    "name": "ipython",
    "version": 3
   },
   "file_extension": ".py",
   "mimetype": "text/x-python",
   "name": "python",
   "nbconvert_exporter": "python",
   "pygments_lexer": "ipython3",
   "version": "3.11.5"
  },
  "orig_nbformat": 4
 },
 "nbformat": 4,
 "nbformat_minor": 2
}
