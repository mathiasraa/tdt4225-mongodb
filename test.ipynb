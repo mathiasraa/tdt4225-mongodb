{
 "cells": [
  {
   "cell_type": "code",
   "execution_count": 1,
   "metadata": {},
   "outputs": [],
   "source": [
    "import mysql.connector as mysql"
   ]
  },
  {
   "cell_type": "code",
   "execution_count": 6,
   "metadata": {},
   "outputs": [],
   "source": [
    "cnx = mysql.connect(\n",
    "    user=\"user\", password=\"password\", database=\"mysql\", host=\"127.0.0.1\", port=3306\n",
    ")\n",
    "cursor = cnx.cursor()\n",
    "\n",
    "cursor.execute(\n",
    "    \"CREATE TABLE IF NOT EXISTS test(id INTEGER(64) PRIMARY KEY, name VARCHAR(255))\"\n",
    ")\n",
    "\n",
    "cursor.execute(\"INSERT INTO test VALUES (2, 'bla')\")\n",
    "cursor.execute(\"INSERT INTO test VALUES (3, 'blabla')\")\n",
    "cursor.execute(\"INSERT INTO test VALUES (4, 'blablabla')\")\n",
    "\n",
    "cursor.execute(\"SELECT * FROM test\")\n",
    "for row in cursor.fetchall():\n",
    "    print(row)\n",
    "\n",
    "cursor.close()\n",
    "cnx.close()"
   ]
  }
 ],
 "metadata": {
  "kernelspec": {
   "display_name": "mysql",
   "language": "python",
   "name": "python3"
  },
  "language_info": {
   "codemirror_mode": {
    "name": "ipython",
    "version": 3
   },
   "file_extension": ".py",
   "mimetype": "text/x-python",
   "name": "python",
   "nbconvert_exporter": "python",
   "pygments_lexer": "ipython3",
   "version": "3.11.5"
  },
  "orig_nbformat": 4
 },
 "nbformat": 4,
 "nbformat_minor": 2
}
