{
 "cells": [
  {
   "cell_type": "code",
   "execution_count": 2,
   "metadata": {},
   "outputs": [],
   "source": [
    "%load_ext autoreload"
   ]
  },
  {
   "cell_type": "code",
   "execution_count": 3,
   "metadata": {},
   "outputs": [],
   "source": [
    "%autoreload 2\n",
    "\n",
    "# Add /src modules to path\n",
    "import os\n",
    "import sys\n",
    "module_path = os.path.abspath(os.path.join('..'))\n",
    "if module_path not in sys.path:\n",
    "    sys.path.append(module_path)\n",
    "\n",
    "# Import modules\n",
    "from src.utils import DbConnector, haversine_np\n",
    "import pandas as pd\n",
    "import numpy as np\n",
    "from pprint import pprint\n",
    "from datetime import datetime, timedelta\n",
    "from collections import Counter\n"
   ]
  },
  {
   "cell_type": "code",
   "execution_count": 16,
   "metadata": {},
   "outputs": [
    {
     "name": "stdout",
     "output_type": "stream",
     "text": [
      "You are connected to the database: mongodb\n",
      "-----------------------------------------------\n",
      "\n"
     ]
    }
   ],
   "source": [
    "# Connect to MySQL database\n",
    "\n",
    "connector = DbConnector()\n",
    "db = connector.db"
   ]
  },
  {
   "cell_type": "markdown",
   "metadata": {},
   "source": [
    "----"
   ]
  },
  {
   "cell_type": "markdown",
   "metadata": {},
   "source": [
    "### Task 1\n",
    "How many users, activities and trackpoints are there in the dataset?"
   ]
  },
  {
   "cell_type": "code",
   "execution_count": 17,
   "metadata": {},
   "outputs": [
    {
     "name": "stdout",
     "output_type": "stream",
     "text": [
      "Total Users: 182\n",
      "Total Activities: 15641\n",
      "Total Trackpoints: 8501885\n"
     ]
    }
   ],
   "source": [
    "collection = db[\"ActivityCollection\"]\n",
    "\n",
    "users_count = db.UserCollection.count_documents({})\n",
    "activities_count = db.ActivityCollection.count_documents({})\n",
    "trackpoints_count = db.ActivityCollection.aggregate(\n",
    "    [{\"$unwind\": \"$track_points\"}, {\"$count\": \"trackpoint_count\"}]\n",
    ")\n",
    "trackpoints_count = next(trackpoints_count, {}).get(\"trackpoint_count\", 0)\n",
    "\n",
    "\n",
    "print(f\"Total Users: {users_count}\")\n",
    "print(f\"Total Activities: {activities_count}\")\n",
    "print(f\"Total Trackpoints: {trackpoints_count}\")"
   ]
  },
  {
   "cell_type": "markdown",
   "metadata": {},
   "source": [
    "### Task 2\n",
    "Find the average number of activities per user"
   ]
  },
  {
   "cell_type": "code",
   "execution_count": 18,
   "metadata": {},
   "outputs": [
    {
     "name": "stdout",
     "output_type": "stream",
     "text": [
      "Average Activities/User: 85.94\n"
     ]
    }
   ],
   "source": [
    "average_activities_per_user = activities_count / users_count\n",
    "print(f\"Average Activities/User: {average_activities_per_user:.2f}\")"
   ]
  },
  {
   "cell_type": "markdown",
   "metadata": {},
   "source": [
    "### Task 3\n",
    "Find the top 20 users with the highest number of activities. "
   ]
  },
  {
   "cell_type": "code",
   "execution_count": 19,
   "metadata": {},
   "outputs": [
    {
     "name": "stdout",
     "output_type": "stream",
     "text": [
      "Top 20 Users with Most Activities:\n",
      "User: 085, Activities: 1089\n",
      "User: 153, Activities: 977\n",
      "User: 068, Activities: 920\n",
      "User: 128, Activities: 876\n",
      "User: 167, Activities: 810\n",
      "User: 025, Activities: 715\n",
      "User: 062, Activities: 538\n",
      "User: 126, Activities: 420\n",
      "User: 084, Activities: 411\n",
      "User: 010, Activities: 402\n",
      "User: 041, Activities: 399\n",
      "User: 163, Activities: 354\n",
      "User: 004, Activities: 346\n",
      "User: 140, Activities: 345\n",
      "User: 179, Activities: 305\n",
      "User: 052, Activities: 282\n",
      "User: 017, Activities: 265\n",
      "User: 003, Activities: 261\n",
      "User: 014, Activities: 236\n",
      "User: 030, Activities: 210\n"
     ]
    }
   ],
   "source": [
    "users_activities_count = list(\n",
    "    db[\"ActivityCollection\"].aggregate(\n",
    "        [\n",
    "            {\"$group\": {\"_id\": \"$user\", \"activity_count\": {\"$sum\": 1}}},\n",
    "            {\"$sort\": {\"activity_count\": -1}},\n",
    "            {\"$limit\": 20},\n",
    "        ]\n",
    "    )\n",
    ")\n",
    "\n",
    "print(\"Top 20 Users with Most Activities:\")\n",
    "\n",
    "for user in users_activities_count:\n",
    "    print(f\"User: {user['_id']}, Activities: {user['activity_count']}\")"
   ]
  },
  {
   "cell_type": "markdown",
   "metadata": {},
   "source": [
    "### Task 4\n",
    "Find all users who have taken a taxi. "
   ]
  },
  {
   "cell_type": "code",
   "execution_count": 26,
   "metadata": {},
   "outputs": [
    {
     "name": "stdout",
     "output_type": "stream",
     "text": [
      "Users who have taken a taxi:\n",
      "['010',\n",
      " '021',\n",
      " '052',\n",
      " '056',\n",
      " '058',\n",
      " '062',\n",
      " '065',\n",
      " '068',\n",
      " '075',\n",
      " '078',\n",
      " '080',\n",
      " '082',\n",
      " '084',\n",
      " '085',\n",
      " '098',\n",
      " '102',\n",
      " '105',\n",
      " '111',\n",
      " '114',\n",
      " '126',\n",
      " '128',\n",
      " '139',\n",
      " '153',\n",
      " '154',\n",
      " '161',\n",
      " '163',\n",
      " '167',\n",
      " '175',\n",
      " '179']\n"
     ]
    }
   ],
   "source": [
    "users_taken_taxi = db[\"ActivityCollection\"].distinct(\n",
    "    \"user\", {\"transportation_mode\": \"taxi\"}\n",
    ")\n",
    "\n",
    "print(\"Users who have taken a taxi:\")\n",
    "pprint(users_taken_taxi)"
   ]
  },
  {
   "cell_type": "markdown",
   "metadata": {},
   "source": [
    "### Task 5\n",
    "Find all types of transportation modes and count how many activities that are\n",
    "tagged with these transportation mode labels. Do not count the rows where\n",
    "the mode is null."
   ]
  },
  {
   "cell_type": "code",
   "execution_count": 31,
   "metadata": {},
   "outputs": [
    {
     "name": "stdout",
     "output_type": "stream",
     "text": [
      "Transportation Modes and Their Counts:\n",
      "Mode: walk, Count: 3927\n",
      "Mode: bus, Count: 1820\n",
      "Mode: bike, Count: 1519\n",
      "Mode: car, Count: 751\n",
      "Mode: subway, Count: 613\n",
      "Mode: taxi, Count: 512\n",
      "Mode: train, Count: 134\n",
      "Mode: airplane, Count: 13\n",
      "Mode: boat, Count: 7\n",
      "Mode: run, Count: 4\n",
      "Mode: motorcycle, Count: 2\n"
     ]
    }
   ],
   "source": [
    "transportation_modes = list(\n",
    "    db[\"ActivityCollection\"].aggregate(\n",
    "        [\n",
    "            {\"$group\": {\"_id\": \"$transportation_mode\", \"count\": {\"$sum\": 1}}},\n",
    "            {\"$match\": {\"_id\": {\"$ne\": None}}},\n",
    "        ]\n",
    "    )\n",
    ")\n",
    "\n",
    "print(\"Transportation Modes and Their Counts:\")\n",
    "\n",
    "transportation_modes.sort(key=lambda x: x[\"count\"], reverse=True)\n",
    "for mode in transportation_modes:\n",
    "    print(f\"Mode: {mode['_id']}, Count: {mode['count']}\")"
   ]
  },
  {
   "cell_type": "markdown",
   "metadata": {},
   "source": [
    "### Task 6"
   ]
  },
  {
   "cell_type": "markdown",
   "metadata": {},
   "source": [
    "#### a) Find the year with the most activities. "
   ]
  },
  {
   "cell_type": "code",
   "execution_count": 35,
   "metadata": {},
   "outputs": [
    {
     "name": "stdout",
     "output_type": "stream",
     "text": [
      "Year with most activities: 2008\n",
      "This year had 7861 activities\n"
     ]
    }
   ],
   "source": [
    "year_most_activities = list(\n",
    "    db.ActivityCollection.aggregate(\n",
    "        [\n",
    "            {\"$project\": {\"year\": {\"$year\": \"$start_date_time\"}}},\n",
    "            {\"$group\": {\"_id\": \"$year\", \"activity_count\": {\"$sum\": 1}}},\n",
    "            {\"$sort\": {\"activity_count\": -1}},\n",
    "            {\"$limit\": 1},\n",
    "        ]\n",
    "    )\n",
    ")[0]\n",
    "\n",
    "print(f\"Year with most activities: {year_most_activities['_id']}\")\n",
    "print(f\"This year had {year_most_activities['activity_count']} activities\")"
   ]
  },
  {
   "cell_type": "markdown",
   "metadata": {},
   "source": [
    "#### b) Is this also the year with most recorded hours?"
   ]
  },
  {
   "cell_type": "markdown",
   "metadata": {},
   "source": [
    "This aggregation pipeline first calculates the number of hours for each activity by subtracting the start_date_time from the end_date_time (resulting in a duration in milliseconds) and then dividing by the number of milliseconds in an hour (3,600,000). It then groups the data by year and sums the total hours, sorts by total hours in descending order, and limits the results to the year with the highest number of hours."
   ]
  },
  {
   "cell_type": "code",
   "execution_count": 33,
   "metadata": {},
   "outputs": [
    {
     "name": "stdout",
     "output_type": "stream",
     "text": [
      "Year with most recorded hours: 2009, Hours: 9765.33\n"
     ]
    }
   ],
   "source": [
    "year_most_hours = list(\n",
    "    db.ActivityCollection.aggregate(\n",
    "        [\n",
    "            {\n",
    "                \"$project\": {\n",
    "                    \"year\": {\"$year\": \"$start_date_time\"},\n",
    "                    \"hours\": {\n",
    "                        \"$divide\": [\n",
    "                            {\"$subtract\": [\"$end_date_time\", \"$start_date_time\"]},\n",
    "                            3600000,  # Number of milliseconds in an hour\n",
    "                        ]\n",
    "                    },\n",
    "                }\n",
    "            },\n",
    "            {\"$group\": {\"_id\": \"$year\", \"total_hours\": {\"$sum\": \"$hours\"}}},\n",
    "            {\"$sort\": {\"total_hours\": -1}},\n",
    "            {\"$limit\": 1},\n",
    "        ]\n",
    "    )\n",
    ")[0]\n",
    "\n",
    "print(\n",
    "    f\"Year with most recorded hours: {year_most_hours['_id']}, Hours: {year_most_hours['total_hours']:.2f}\"\n",
    ")"
   ]
  },
  {
   "cell_type": "markdown",
   "metadata": {},
   "source": [
    "### Task 7\n",
    "Find the total distance (in km) walked in 2008, by user with id=112."
   ]
  },
  {
   "cell_type": "code",
   "execution_count": 37,
   "metadata": {},
   "outputs": [
    {
     "name": "stdout",
     "output_type": "stream",
     "text": [
      "Total distance walked by user 112 in 2008: 223.15 km\n"
     ]
    }
   ],
   "source": [
    "user_id = \"112\"\n",
    "activities_for_user = db.ActivityCollection.find({\n",
    "    \"user\": user_id,\n",
    "    \"transportation_mode\": \"walk\",\n",
    "    \"start_date_time\": {\"$gte\": datetime(2008, 1, 1), \"$lt\": datetime(2009, 1, 1)}\n",
    "})\n",
    "\n",
    "total_distance = 0.0\n",
    "\n",
    "for activity in activities_for_user:\n",
    "    track_points = activity[\"track_points\"]\n",
    "    \n",
    "    # Split track points into latitudes, longitudes for easier computation\n",
    "    lats = np.array([point[\"latitude\"] for point in track_points])\n",
    "    longs = np.array([point[\"longitude\"] for point in track_points])\n",
    "    \n",
    "    # Calculate the haversine distance for each consecutive track point and sum them up\n",
    "    total_distance += np.sum(haversine_np(longs[:-1], lats[:-1], longs[1:], lats[1:]))\n",
    "\n",
    "print(f\"Total distance walked by user {user_id} in 2008: {total_distance:.2f} km\")\n"
   ]
  },
  {
   "cell_type": "markdown",
   "metadata": {},
   "source": [
    "### Task 8\n",
    "Find the top 20 users who have gained the most altitude meters.\n",
    "- Output should be a field with (id, total meters gained per user).\n",
    "- Remember that some altitude-values are invalid"
   ]
  },
  {
   "cell_type": "code",
   "execution_count": 44,
   "metadata": {},
   "outputs": [
    {
     "name": "stdout",
     "output_type": "stream",
     "text": [
      "User ID: 004, Altitude Gain: 332036.31839999993 meters\n",
      "User ID: 128, Altitude Gain: 266359.42647999997 meters\n",
      "User ID: 085, Altitude Gain: 259790.1839999999 meters\n",
      "User ID: 041, Altitude Gain: 240768.86568000002 meters\n",
      "User ID: 003, Altitude Gain: 233663.64240000013 meters\n",
      "User ID: 030, Altitude Gain: 175679.70959999994 meters\n",
      "User ID: 062, Altitude Gain: 152512.28832000014 meters\n",
      "User ID: 039, Altitude Gain: 146703.59280000004 meters\n",
      "User ID: 084, Altitude Gain: 132726.3792 meters\n",
      "User ID: 167, Altitude Gain: 129899.2352000001 meters\n",
      "User ID: 000, Altitude Gain: 121504.86239999998 meters\n",
      "User ID: 002, Altitude Gain: 115198.24559999998 meters\n",
      "User ID: 153, Altitude Gain: 112978.33135999988 meters\n",
      "User ID: 025, Altitude Gain: 109158.57263999997 meters\n",
      "User ID: 037, Altitude Gain: 99234.5894399998 meters\n",
      "User ID: 140, Altitude Gain: 94846.29935999996 meters\n",
      "User ID: 052, Altitude Gain: 81748.27440000004 meters\n",
      "User ID: 017, Altitude Gain: 62581.35311999996 meters\n",
      "User ID: 034, Altitude Gain: 61430.458799999964 meters\n",
      "User ID: 042, Altitude Gain: 61332.13032 meters\n"
     ]
    }
   ],
   "source": [
    "def calculate_altitude_gain(track_points):\n",
    "    \"\"\"\n",
    "    Calculate the altitude gain from a list of track points.\n",
    "    \"\"\"\n",
    "    total_gain = 0\n",
    "    for i in range(1, len(track_points)):\n",
    "        altitude_difference = track_points[i]['altitude'] - track_points[i-1]['altitude']\n",
    "        if altitude_difference > 0:\n",
    "            total_gain += altitude_difference\n",
    "    return total_gain\n",
    "\n",
    "def top_users_by_altitude_gain():\n",
    "    # Connect to the MongoDB instance\n",
    "    activity_collection = db['ActivityCollection']\n",
    "\n",
    "    user_altitude_gains = {}\n",
    "\n",
    "    # Iterate over all activities in the ActivityCollection\n",
    "    for activity in activity_collection.find():\n",
    "        user = activity['user']\n",
    "        altitude_gain = calculate_altitude_gain(activity['track_points'])\n",
    "\n",
    "        # Convert altitude_gain from feet to meters\n",
    "        altitude_gain *= 0.3048\n",
    "        \n",
    "        if user in user_altitude_gains:\n",
    "            user_altitude_gains[user] += altitude_gain\n",
    "        else:\n",
    "            user_altitude_gains[user] = altitude_gain\n",
    "\n",
    "    # Sort users by their total altitude gain\n",
    "    sorted_users = sorted(user_altitude_gains.items(), key=lambda x: x[1], reverse=True)\n",
    "\n",
    "    # Get top 20 users\n",
    "    top_20_users = sorted_users[:20]\n",
    "\n",
    "    for user, gain in top_20_users:\n",
    "        print(f\"User ID: {user}, Altitude Gain: {gain} meters\")\n",
    "\n",
    "top_users_by_altitude_gain()\n"
   ]
  },
  {
   "cell_type": "markdown",
   "metadata": {},
   "source": [
    "### Task 9\n",
    "Find all users who have invalid activities, and the number of invalid activities\n",
    "per user.\n",
    "- An invalid activity is defined as an activity with consecutive trackpoints\n",
    "where the timestamps deviate with at least 5 minutes. "
   ]
  },
  {
   "cell_type": "code",
   "execution_count": 42,
   "metadata": {},
   "outputs": [
    {
     "name": "stdout",
     "output_type": "stream",
     "text": [
      "User ID: 135, Invalid Activities: 5\n",
      "User ID: 132, Invalid Activities: 3\n",
      "User ID: 103, Invalid Activities: 24\n",
      "User ID: 168, Invalid Activities: 19\n",
      "User ID: 157, Invalid Activities: 9\n",
      "User ID: 150, Invalid Activities: 16\n",
      "User ID: 159, Invalid Activities: 5\n",
      "User ID: 166, Invalid Activities: 2\n",
      "User ID: 161, Invalid Activities: 2\n",
      "User ID: 102, Invalid Activities: 9\n",
      "User ID: 105, Invalid Activities: 14\n",
      "User ID: 133, Invalid Activities: 4\n",
      "User ID: 134, Invalid Activities: 31\n",
      "User ID: 158, Invalid Activities: 9\n",
      "User ID: 167, Invalid Activities: 135\n",
      "User ID: 151, Invalid Activities: 1\n",
      "User ID: 169, Invalid Activities: 9\n",
      "User ID: 024, Invalid Activities: 27\n",
      "User ID: 023, Invalid Activities: 11\n",
      "User ID: 015, Invalid Activities: 46\n",
      "User ID: 012, Invalid Activities: 43\n",
      "User ID: 079, Invalid Activities: 2\n",
      "User ID: 046, Invalid Activities: 13\n",
      "User ID: 041, Invalid Activities: 201\n",
      "User ID: 048, Invalid Activities: 1\n",
      "User ID: 077, Invalid Activities: 3\n",
      "User ID: 083, Invalid Activities: 15\n",
      "User ID: 084, Invalid Activities: 155\n",
      "User ID: 070, Invalid Activities: 5\n",
      "User ID: 013, Invalid Activities: 29\n",
      "User ID: 014, Invalid Activities: 118\n",
      "User ID: 022, Invalid Activities: 55\n",
      "User ID: 025, Invalid Activities: 263\n",
      "User ID: 071, Invalid Activities: 29\n",
      "User ID: 085, Invalid Activities: 219\n",
      "User ID: 082, Invalid Activities: 15\n",
      "User ID: 076, Invalid Activities: 7\n",
      "User ID: 040, Invalid Activities: 17\n",
      "User ID: 078, Invalid Activities: 7\n",
      "User ID: 047, Invalid Activities: 6\n",
      "User ID: 065, Invalid Activities: 23\n",
      "User ID: 091, Invalid Activities: 12\n",
      "User ID: 096, Invalid Activities: 10\n",
      "User ID: 062, Invalid Activities: 184\n",
      "User ID: 054, Invalid Activities: 2\n",
      "User ID: 053, Invalid Activities: 8\n",
      "User ID: 098, Invalid Activities: 7\n",
      "User ID: 038, Invalid Activities: 58\n",
      "User ID: 007, Invalid Activities: 30\n",
      "User ID: 000, Invalid Activities: 101\n",
      "User ID: 009, Invalid Activities: 31\n",
      "User ID: 036, Invalid Activities: 34\n",
      "User ID: 031, Invalid Activities: 3\n",
      "User ID: 052, Invalid Activities: 117\n",
      "User ID: 099, Invalid Activities: 11\n",
      "User ID: 055, Invalid Activities: 15\n",
      "User ID: 063, Invalid Activities: 8\n",
      "User ID: 097, Invalid Activities: 14\n",
      "User ID: 090, Invalid Activities: 3\n",
      "User ID: 064, Invalid Activities: 9\n",
      "User ID: 030, Invalid Activities: 112\n",
      "User ID: 008, Invalid Activities: 16\n",
      "User ID: 037, Invalid Activities: 100\n",
      "User ID: 001, Invalid Activities: 45\n",
      "User ID: 039, Invalid Activities: 147\n",
      "User ID: 006, Invalid Activities: 17\n",
      "User ID: 174, Invalid Activities: 2\n",
      "User ID: 180, Invalid Activities: 2\n",
      "User ID: 173, Invalid Activities: 5\n",
      "User ID: 145, Invalid Activities: 5\n",
      "User ID: 142, Invalid Activities: 52\n",
      "User ID: 129, Invalid Activities: 5\n",
      "User ID: 111, Invalid Activities: 10\n",
      "User ID: 127, Invalid Activities: 4\n",
      "User ID: 144, Invalid Activities: 5\n",
      "User ID: 172, Invalid Activities: 9\n",
      "User ID: 181, Invalid Activities: 14\n",
      "User ID: 175, Invalid Activities: 5\n",
      "User ID: 121, Invalid Activities: 4\n",
      "User ID: 119, Invalid Activities: 22\n",
      "User ID: 126, Invalid Activities: 97\n",
      "User ID: 128, Invalid Activities: 238\n",
      "User ID: 117, Invalid Activities: 1\n",
      "User ID: 153, Invalid Activities: 148\n",
      "User ID: 154, Invalid Activities: 10\n",
      "User ID: 162, Invalid Activities: 9\n",
      "User ID: 165, Invalid Activities: 2\n",
      "User ID: 131, Invalid Activities: 10\n",
      "User ID: 109, Invalid Activities: 3\n",
      "User ID: 107, Invalid Activities: 1\n",
      "User ID: 138, Invalid Activities: 2\n",
      "User ID: 164, Invalid Activities: 6\n",
      "User ID: 163, Invalid Activities: 79\n",
      "User ID: 155, Invalid Activities: 30\n",
      "User ID: 152, Invalid Activities: 2\n",
      "User ID: 106, Invalid Activities: 3\n",
      "User ID: 139, Invalid Activities: 12\n",
      "User ID: 101, Invalid Activities: 1\n",
      "User ID: 108, Invalid Activities: 7\n",
      "User ID: 130, Invalid Activities: 8\n",
      "User ID: 089, Invalid Activities: 17\n",
      "User ID: 042, Invalid Activities: 55\n",
      "User ID: 045, Invalid Activities: 7\n",
      "User ID: 087, Invalid Activities: 2\n",
      "User ID: 073, Invalid Activities: 7\n",
      "User ID: 074, Invalid Activities: 19\n",
      "User ID: 080, Invalid Activities: 4\n",
      "User ID: 020, Invalid Activities: 26\n",
      "User ID: 027, Invalid Activities: 2\n",
      "User ID: 018, Invalid Activities: 27\n",
      "User ID: 011, Invalid Activities: 32\n",
      "User ID: 016, Invalid Activities: 20\n",
      "User ID: 029, Invalid Activities: 25\n",
      "User ID: 081, Invalid Activities: 11\n",
      "User ID: 075, Invalid Activities: 4\n",
      "User ID: 072, Invalid Activities: 2\n",
      "User ID: 086, Invalid Activities: 6\n",
      "User ID: 044, Invalid Activities: 32\n",
      "User ID: 043, Invalid Activities: 21\n",
      "User ID: 017, Invalid Activities: 129\n",
      "User ID: 028, Invalid Activities: 36\n",
      "User ID: 010, Invalid Activities: 53\n",
      "User ID: 026, Invalid Activities: 18\n",
      "User ID: 019, Invalid Activities: 31\n",
      "User ID: 021, Invalid Activities: 12\n",
      "User ID: 003, Invalid Activities: 179\n",
      "User ID: 004, Invalid Activities: 219\n",
      "User ID: 032, Invalid Activities: 12\n",
      "User ID: 035, Invalid Activities: 23\n",
      "User ID: 095, Invalid Activities: 4\n",
      "User ID: 061, Invalid Activities: 12\n",
      "User ID: 066, Invalid Activities: 6\n",
      "User ID: 092, Invalid Activities: 4\n",
      "User ID: 050, Invalid Activities: 8\n",
      "User ID: 057, Invalid Activities: 16\n",
      "User ID: 068, Invalid Activities: 128\n",
      "User ID: 034, Invalid Activities: 88\n",
      "User ID: 033, Invalid Activities: 2\n",
      "User ID: 005, Invalid Activities: 45\n",
      "User ID: 002, Invalid Activities: 98\n",
      "User ID: 056, Invalid Activities: 3\n",
      "User ID: 069, Invalid Activities: 7\n",
      "User ID: 051, Invalid Activities: 36\n",
      "User ID: 093, Invalid Activities: 4\n",
      "User ID: 067, Invalid Activities: 32\n",
      "User ID: 058, Invalid Activities: 6\n",
      "User ID: 060, Invalid Activities: 1\n",
      "User ID: 094, Invalid Activities: 16\n",
      "User ID: 112, Invalid Activities: 31\n",
      "User ID: 115, Invalid Activities: 45\n",
      "User ID: 123, Invalid Activities: 3\n",
      "User ID: 170, Invalid Activities: 2\n",
      "User ID: 141, Invalid Activities: 8\n",
      "User ID: 146, Invalid Activities: 7\n",
      "User ID: 179, Invalid Activities: 53\n",
      "User ID: 125, Invalid Activities: 13\n",
      "User ID: 122, Invalid Activities: 6\n",
      "User ID: 114, Invalid Activities: 2\n",
      "User ID: 113, Invalid Activities: 1\n",
      "User ID: 140, Invalid Activities: 86\n",
      "User ID: 176, Invalid Activities: 8\n",
      "User ID: 171, Invalid Activities: 3\n"
     ]
    }
   ],
   "source": [
    "def has_invalid_activity(track_points):\n",
    "    \"\"\"\n",
    "    Check if the activity has any consecutive trackpoints with a timestamp deviation of at least 5 minutes.\n",
    "    \"\"\"\n",
    "    for i in range(1, len(track_points)):\n",
    "        time_difference = track_points[i]['date_time'] - track_points[i-1]['date_time']\n",
    "        if time_difference >= timedelta(minutes=5):\n",
    "            return True\n",
    "    return False\n",
    "\n",
    "def users_with_invalid_activities():\n",
    "    # Connect to the MongoDB instance\n",
    "    activity_collection = db['ActivityCollection']\n",
    "\n",
    "    user_invalid_activity_counts = {}\n",
    "\n",
    "    # Iterate over all activities in the ActivityCollection\n",
    "    for activity in activity_collection.find():\n",
    "        user = activity['user']\n",
    "        if has_invalid_activity(activity['track_points']):\n",
    "            if user in user_invalid_activity_counts:\n",
    "                user_invalid_activity_counts[user] += 1\n",
    "            else:\n",
    "                user_invalid_activity_counts[user] = 1\n",
    "\n",
    "    # Filter for users with at least one invalid activity\n",
    "    users_with_invalids = {user: count for user, count in user_invalid_activity_counts.items() if count > 0}\n",
    "\n",
    "    for user, invalid_count in users_with_invalids.items():\n",
    "        print(f\"User ID: {user}, Invalid Activities: {invalid_count}\")\n",
    "\n",
    "users_with_invalid_activities()"
   ]
  },
  {
   "cell_type": "markdown",
   "metadata": {},
   "source": [
    "### Task 10\n",
    "Find the users who have tracked an activity in the Forbidden City of Beijing.\n",
    "- In this question you can consider the Forbidden City to have\n",
    "coordinates that correspond to: lat 39.916, lon 116.397."
   ]
  },
  {
   "cell_type": "code",
   "execution_count": 45,
   "metadata": {},
   "outputs": [
    {
     "data": {
      "text/plain": [
       "['153', '131', '004', '018', '019']"
      ]
     },
     "execution_count": 45,
     "metadata": {},
     "output_type": "execute_result"
    }
   ],
   "source": [
    "coordinates = {\"latitude\": 39.916, \"longitude\": 116.397}\n",
    "\n",
    "pipeline = [\n",
    "    {\"$unwind\": \"$track_points\"},\n",
    "    {\n",
    "        \"$match\": {\n",
    "            \"track_points.latitude\": {\n",
    "                \"$gte\": coordinates[\"latitude\"] - 0.001,\n",
    "                \"$lte\": coordinates[\"latitude\"] + 0.001,\n",
    "            },\n",
    "            \"track_points.longitude\": {\n",
    "                \"$gte\": coordinates[\"longitude\"] - 0.001,\n",
    "                \"$lte\": coordinates[\"longitude\"] + 0.001,\n",
    "            },\n",
    "        }\n",
    "    },\n",
    "    {\"$group\": {\"_id\": \"$user\"}},\n",
    "]\n",
    "\n",
    "output = db.ActivityCollection.aggregate(pipeline)\n",
    "output = [user[\"_id\"] for user in output]\n",
    "output"
   ]
  },
  {
   "cell_type": "markdown",
   "metadata": {},
   "source": [
    "### Task 11\n",
    "Find all users who have registered transportation_mode and their most used\n",
    "transportation_mode. \n",
    "- The answer should be on format (user_id,\n",
    "most_used_transportation_mode) sorted on user_id.\n",
    "- Some users may have the same number of activities tagged with e.g.\n",
    "walk and car. In this case it is up to you to decide which transportation\n",
    "mode to include in your answer (choose one).\n",
    "- Do not count the rows where the mode is null."
   ]
  },
  {
   "cell_type": "code",
   "execution_count": 52,
   "metadata": {},
   "outputs": [
    {
     "name": "stdout",
     "output_type": "stream",
     "text": [
      "Users and their most used transportation mode:\n",
      "User: 104, Most Used Mode: bus\n",
      "User: 161, Most Used Mode: walk\n",
      "User: 102, Most Used Mode: walk\n",
      "User: 105, Most Used Mode: walk\n",
      "User: 167, Most Used Mode: walk\n",
      "User: 084, Most Used Mode: walk\n",
      "User: 085, Most Used Mode: walk\n",
      "User: 082, Most Used Mode: walk\n",
      "User: 076, Most Used Mode: car\n",
      "User: 078, Most Used Mode: walk\n",
      "User: 065, Most Used Mode: bike\n",
      "User: 091, Most Used Mode: walk\n",
      "User: 096, Most Used Mode: bike\n",
      "User: 062, Most Used Mode: bus\n",
      "User: 053, Most Used Mode: walk\n",
      "User: 098, Most Used Mode: walk\n",
      "User: 052, Most Used Mode: bus\n",
      "User: 097, Most Used Mode: bike\n",
      "User: 064, Most Used Mode: walk\n",
      "User: 174, Most Used Mode: car\n",
      "User: 129, Most Used Mode: walk\n",
      "User: 116, Most Used Mode: bike\n",
      "User: 111, Most Used Mode: taxi\n",
      "User: 118, Most Used Mode: car\n",
      "User: 144, Most Used Mode: car\n",
      "User: 175, Most Used Mode: walk\n",
      "User: 126, Most Used Mode: walk\n",
      "User: 110, Most Used Mode: walk\n",
      "User: 128, Most Used Mode: car\n",
      "User: 117, Most Used Mode: walk\n",
      "User: 153, Most Used Mode: walk\n",
      "User: 154, Most Used Mode: walk\n",
      "User: 136, Most Used Mode: walk\n",
      "User: 100, Most Used Mode: walk\n",
      "User: 107, Most Used Mode: walk\n",
      "User: 138, Most Used Mode: walk\n",
      "User: 163, Most Used Mode: walk\n",
      "User: 106, Most Used Mode: car\n",
      "User: 139, Most Used Mode: walk\n",
      "User: 101, Most Used Mode: car\n",
      "User: 108, Most Used Mode: walk\n",
      "User: 089, Most Used Mode: car\n",
      "User: 087, Most Used Mode: walk\n",
      "User: 073, Most Used Mode: walk\n",
      "User: 080, Most Used Mode: walk\n",
      "User: 020, Most Used Mode: bike\n",
      "User: 081, Most Used Mode: walk\n",
      "User: 075, Most Used Mode: walk\n",
      "User: 086, Most Used Mode: car\n",
      "User: 010, Most Used Mode: walk\n",
      "User: 021, Most Used Mode: car\n",
      "User: 092, Most Used Mode: walk\n",
      "User: 068, Most Used Mode: bike\n",
      "User: 056, Most Used Mode: bike\n",
      "User: 069, Most Used Mode: walk\n",
      "User: 067, Most Used Mode: walk\n",
      "User: 058, Most Used Mode: walk\n",
      "User: 060, Most Used Mode: walk\n",
      "User: 112, Most Used Mode: walk\n",
      "User: 115, Most Used Mode: car\n",
      "User: 170, Most Used Mode: walk\n",
      "User: 141, Most Used Mode: walk\n",
      "User: 179, Most Used Mode: walk\n",
      "User: 125, Most Used Mode: bike\n",
      "User: 114, Most Used Mode: taxi\n",
      "User: 147, Most Used Mode: walk\n"
     ]
    }
   ],
   "source": [
    "users_most_used_mode = {}\n",
    "all_users = db.UserCollection.find({})\n",
    "\n",
    "for user in all_users:\n",
    "    user_id = user['_id']\n",
    "    user_activities = list(db.ActivityCollection.find({'user': user_id, 'transportation_mode': {'$ne': None}}))\n",
    "    modes = [activity['transportation_mode'] for activity in user_activities]\n",
    "\n",
    "    modes_count = Counter(modes)\n",
    "    if modes_count:\n",
    "        users_most_used_mode[user_id] = modes_count.most_common(1)[0][0]\n",
    "\n",
    "print(\"Users and their most used transportation mode:\")\n",
    "\n",
    "for user, mode in users_most_used_mode.items():\n",
    "    print(f\"User: {user}, Most Used Mode: {mode}\")"
   ]
  },
  {
   "cell_type": "markdown",
   "metadata": {},
   "source": [
    "----"
   ]
  },
  {
   "cell_type": "code",
   "execution_count": 13,
   "metadata": {},
   "outputs": [
    {
     "name": "stdout",
     "output_type": "stream",
     "text": [
      "\n",
      "-----------------------------------------------\n",
      "Connection to mongodb-db is closed\n"
     ]
    }
   ],
   "source": [
    "connector.close_connection()"
   ]
  }
 ],
 "metadata": {
  "kernelspec": {
   "display_name": "mysql",
   "language": "python",
   "name": "python3"
  },
  "language_info": {
   "codemirror_mode": {
    "name": "ipython",
    "version": 3
   },
   "file_extension": ".py",
   "mimetype": "text/x-python",
   "name": "python",
   "nbconvert_exporter": "python",
   "pygments_lexer": "ipython3",
   "version": "3.11.5"
  },
  "orig_nbformat": 4
 },
 "nbformat": 4,
 "nbformat_minor": 2
}
