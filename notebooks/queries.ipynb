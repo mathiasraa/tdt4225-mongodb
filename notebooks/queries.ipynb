{
 "cells": [
  {
   "cell_type": "code",
   "execution_count": 1,
   "metadata": {},
   "outputs": [],
   "source": [
    "%load_ext autoreload"
   ]
  },
  {
   "cell_type": "code",
   "execution_count": 2,
   "metadata": {},
   "outputs": [],
   "source": [
    "%autoreload 2\n",
    "\n",
    "# Add /src modules to path\n",
    "import os\n",
    "import sys\n",
    "module_path = os.path.abspath(os.path.join('..'))\n",
    "if module_path not in sys.path:\n",
    "    sys.path.append(module_path)\n",
    "\n",
    "# Import modules\n",
    "from src.utils import DbConnector, haversine_np\n",
    "import pandas as pd\n",
    "import numpy as np\n",
    "from pprint import pprint\n",
    "from datetime import datetime, timedelta\n",
    "from collections import Counter\n"
   ]
  },
  {
   "cell_type": "code",
   "execution_count": 42,
   "metadata": {},
   "outputs": [
    {
     "name": "stdout",
     "output_type": "stream",
     "text": [
      "You are connected to the database: mongodb\n",
      "-----------------------------------------------\n",
      "\n"
     ]
    }
   ],
   "source": [
    "# Connect to MySQL database\n",
    "\n",
    "connector = DbConnector()\n",
    "db = connector.db"
   ]
  },
  {
   "cell_type": "markdown",
   "metadata": {},
   "source": [
    "----"
   ]
  },
  {
   "cell_type": "code",
   "execution_count": 43,
   "metadata": {},
   "outputs": [],
   "source": [
    "activities = db[\"ActivityCollection\"]\n",
    "\n",
    "activities_df = pd.DataFrame(list(activities.find({})))\n"
   ]
  },
  {
   "cell_type": "code",
   "execution_count": 44,
   "metadata": {},
   "outputs": [
    {
     "data": {
      "text/html": [
       "<div>\n",
       "<style scoped>\n",
       "    .dataframe tbody tr th:only-of-type {\n",
       "        vertical-align: middle;\n",
       "    }\n",
       "\n",
       "    .dataframe tbody tr th {\n",
       "        vertical-align: top;\n",
       "    }\n",
       "\n",
       "    .dataframe thead th {\n",
       "        text-align: right;\n",
       "    }\n",
       "</style>\n",
       "<table border=\"1\" class=\"dataframe\">\n",
       "  <thead>\n",
       "    <tr style=\"text-align: right;\">\n",
       "      <th></th>\n",
       "      <th>_id</th>\n",
       "      <th>user</th>\n",
       "      <th>start_date_time</th>\n",
       "      <th>end_date_time</th>\n",
       "      <th>transportation_mode</th>\n",
       "      <th>track_points</th>\n",
       "    </tr>\n",
       "  </thead>\n",
       "  <tbody>\n",
       "    <tr>\n",
       "      <th>11</th>\n",
       "      <td>101041</td>\n",
       "      <td>104</td>\n",
       "      <td>2007-11-30 09:59:00</td>\n",
       "      <td>2007-11-30 10:38:00</td>\n",
       "      <td>bus</td>\n",
       "      <td>[]</td>\n",
       "    </tr>\n",
       "    <tr>\n",
       "      <th>12</th>\n",
       "      <td>111041</td>\n",
       "      <td>104</td>\n",
       "      <td>2007-11-30 12:40:00</td>\n",
       "      <td>2007-11-30 13:18:00</td>\n",
       "      <td>bus</td>\n",
       "      <td>[]</td>\n",
       "    </tr>\n",
       "    <tr>\n",
       "      <th>13</th>\n",
       "      <td>121041</td>\n",
       "      <td>104</td>\n",
       "      <td>2007-12-02 12:27:00</td>\n",
       "      <td>2007-12-02 12:57:00</td>\n",
       "      <td>bus</td>\n",
       "      <td>[]</td>\n",
       "    </tr>\n",
       "    <tr>\n",
       "      <th>14</th>\n",
       "      <td>131041</td>\n",
       "      <td>104</td>\n",
       "      <td>2007-12-02 13:00:00</td>\n",
       "      <td>2007-12-02 13:25:00</td>\n",
       "      <td>bus</td>\n",
       "      <td>[]</td>\n",
       "    </tr>\n",
       "    <tr>\n",
       "      <th>15</th>\n",
       "      <td>141041</td>\n",
       "      <td>104</td>\n",
       "      <td>2007-12-04 07:45:00</td>\n",
       "      <td>2007-12-04 08:30:00</td>\n",
       "      <td>car</td>\n",
       "      <td>[]</td>\n",
       "    </tr>\n",
       "    <tr>\n",
       "      <th>...</th>\n",
       "      <td>...</td>\n",
       "      <td>...</td>\n",
       "      <td>...</td>\n",
       "      <td>...</td>\n",
       "      <td>...</td>\n",
       "      <td>...</td>\n",
       "    </tr>\n",
       "    <tr>\n",
       "      <th>20690</th>\n",
       "      <td>12021471</td>\n",
       "      <td>147</td>\n",
       "      <td>2011-05-18 13:00:25</td>\n",
       "      <td>2011-05-18 13:07:45</td>\n",
       "      <td>walk</td>\n",
       "      <td>[]</td>\n",
       "    </tr>\n",
       "    <tr>\n",
       "      <th>20691</th>\n",
       "      <td>12031471</td>\n",
       "      <td>147</td>\n",
       "      <td>2011-05-18 13:07:50</td>\n",
       "      <td>2011-05-18 13:21:55</td>\n",
       "      <td>bus</td>\n",
       "      <td>[]</td>\n",
       "    </tr>\n",
       "    <tr>\n",
       "      <th>20692</th>\n",
       "      <td>12041471</td>\n",
       "      <td>147</td>\n",
       "      <td>2011-05-19 00:44:58</td>\n",
       "      <td>2011-05-19 01:00:43</td>\n",
       "      <td>walk</td>\n",
       "      <td>[]</td>\n",
       "    </tr>\n",
       "    <tr>\n",
       "      <th>20693</th>\n",
       "      <td>12051471</td>\n",
       "      <td>147</td>\n",
       "      <td>2011-05-19 01:00:48</td>\n",
       "      <td>2011-05-19 01:17:48</td>\n",
       "      <td>bus</td>\n",
       "      <td>[]</td>\n",
       "    </tr>\n",
       "    <tr>\n",
       "      <th>20694</th>\n",
       "      <td>12061471</td>\n",
       "      <td>147</td>\n",
       "      <td>2011-05-19 01:17:53</td>\n",
       "      <td>2011-05-19 01:23:33</td>\n",
       "      <td>walk</td>\n",
       "      <td>[]</td>\n",
       "    </tr>\n",
       "  </tbody>\n",
       "</table>\n",
       "<p>5413 rows × 6 columns</p>\n",
       "</div>"
      ],
      "text/plain": [
       "            _id user     start_date_time       end_date_time  \\\n",
       "11       101041  104 2007-11-30 09:59:00 2007-11-30 10:38:00   \n",
       "12       111041  104 2007-11-30 12:40:00 2007-11-30 13:18:00   \n",
       "13       121041  104 2007-12-02 12:27:00 2007-12-02 12:57:00   \n",
       "14       131041  104 2007-12-02 13:00:00 2007-12-02 13:25:00   \n",
       "15       141041  104 2007-12-04 07:45:00 2007-12-04 08:30:00   \n",
       "...         ...  ...                 ...                 ...   \n",
       "20690  12021471  147 2011-05-18 13:00:25 2011-05-18 13:07:45   \n",
       "20691  12031471  147 2011-05-18 13:07:50 2011-05-18 13:21:55   \n",
       "20692  12041471  147 2011-05-19 00:44:58 2011-05-19 01:00:43   \n",
       "20693  12051471  147 2011-05-19 01:00:48 2011-05-19 01:17:48   \n",
       "20694  12061471  147 2011-05-19 01:17:53 2011-05-19 01:23:33   \n",
       "\n",
       "      transportation_mode track_points  \n",
       "11                    bus           []  \n",
       "12                    bus           []  \n",
       "13                    bus           []  \n",
       "14                    bus           []  \n",
       "15                    car           []  \n",
       "...                   ...          ...  \n",
       "20690                walk           []  \n",
       "20691                 bus           []  \n",
       "20692                walk           []  \n",
       "20693                 bus           []  \n",
       "20694                walk           []  \n",
       "\n",
       "[5413 rows x 6 columns]"
      ]
     },
     "execution_count": 44,
     "metadata": {},
     "output_type": "execute_result"
    }
   ],
   "source": [
    "activities_df[activities_df.track_points.astype(str) == \"[]\"]"
   ]
  },
  {
   "cell_type": "code",
   "execution_count": 41,
   "metadata": {},
   "outputs": [
    {
     "data": {
      "text/plain": [
       "(35,)"
      ]
     },
     "execution_count": 41,
     "metadata": {},
     "output_type": "execute_result"
    }
   ],
   "source": [
    "activities_df2 = activities_df.drop(columns=[\"track_points\"])\n",
    "activities_df2[activities_df2.transportation_mode == \"taxi\"][\"user\"].unique().shape"
   ]
  },
  {
   "cell_type": "code",
   "execution_count": 51,
   "metadata": {},
   "outputs": [],
   "source": [
    "trackpoints = activities_df[activities_df.track_points.astype(str) != \"[]\"][\"track_points\"]"
   ]
  },
  {
   "cell_type": "code",
   "execution_count": 114,
   "metadata": {},
   "outputs": [],
   "source": [
    "count = 0\n",
    "# {'track_points.lat': 39.916, 'track_points.lon': 116.397})\n",
    "for i, e in enumerate(trackpoints):\n",
    "    for tp in e:\n",
    "        if round(tp[\"latitude\"], 3) == 39.916 and round(tp[\"longitude\"], 3) == 116.397:\n",
    "            count += 1"
   ]
  },
  {
   "cell_type": "code",
   "execution_count": 115,
   "metadata": {},
   "outputs": [
    {
     "data": {
      "text/plain": [
       "42"
      ]
     },
     "execution_count": 115,
     "metadata": {},
     "output_type": "execute_result"
    }
   ],
   "source": [
    "count"
   ]
  },
  {
   "cell_type": "markdown",
   "metadata": {},
   "source": [
    "### Task 1\n",
    "How many users, activities and trackpoints are there in the dataset?"
   ]
  },
  {
   "cell_type": "code",
   "execution_count": 45,
   "metadata": {},
   "outputs": [
    {
     "name": "stdout",
     "output_type": "stream",
     "text": [
      "Total Users: 182\n",
      "Total Activities: 21054\n",
      "Total Trackpoints: 8501885\n"
     ]
    }
   ],
   "source": [
    "collection = db[\"ActivityCollection\"]\n",
    "\n",
    "users_count = db.UserCollection.count_documents({})\n",
    "activities_count = db.ActivityCollection.count_documents({})\n",
    "trackpoints_count = db.ActivityCollection.aggregate(\n",
    "    [{\"$unwind\": \"$track_points\"}, {\"$count\": \"trackpoint_count\"}]\n",
    ")\n",
    "trackpoints_count = next(trackpoints_count, {}).get(\"trackpoint_count\", 0)\n",
    "\n",
    "\n",
    "print(f\"Total Users: {users_count}\")\n",
    "print(f\"Total Activities: {activities_count}\")\n",
    "print(f\"Total Trackpoints: {trackpoints_count}\")"
   ]
  },
  {
   "cell_type": "markdown",
   "metadata": {},
   "source": [
    "### Task 2\n",
    "Find the average number of activities per user"
   ]
  },
  {
   "cell_type": "code",
   "execution_count": 17,
   "metadata": {},
   "outputs": [
    {
     "name": "stdout",
     "output_type": "stream",
     "text": [
      "Average Activities/User: 80.85\n"
     ]
    }
   ],
   "source": [
    "average_activities_per_user = activities_count / users_count\n",
    "print(f\"Average Activities/User: {average_activities_per_user:.2f}\")"
   ]
  },
  {
   "cell_type": "markdown",
   "metadata": {},
   "source": [
    "### Task 3\n",
    "Find the top 20 users with the highest number of activities. "
   ]
  },
  {
   "cell_type": "code",
   "execution_count": 19,
   "metadata": {},
   "outputs": [
    {
     "name": "stdout",
     "output_type": "stream",
     "text": [
      "Top 20 Users with Most Activities:\n",
      "User: 163, Activities: 3182\n",
      "User: 085, Activities: 1298\n",
      "User: 153, Activities: 1123\n",
      "User: 068, Activities: 969\n",
      "User: 167, Activities: 944\n",
      "User: 128, Activities: 937\n",
      "User: 062, Activities: 782\n",
      "User: 075, Activities: 509\n",
      "User: 126, Activities: 468\n",
      "User: 010, Activities: 434\n",
      "User: 052, Activities: 425\n",
      "User: 084, Activities: 422\n",
      "User: 179, Activities: 319\n",
      "User: 020, Activities: 223\n",
      "User: 112, Activities: 220\n",
      "User: 147, Activities: 207\n",
      "User: 065, Activities: 206\n",
      "User: 091, Activities: 170\n",
      "User: 125, Activities: 153\n",
      "User: 115, Activities: 139\n"
     ]
    }
   ],
   "source": [
    "users_activities_count = list(\n",
    "    db[\"ActivityCollection\"].aggregate(\n",
    "        [\n",
    "            {\"$group\": {\"_id\": \"$user\", \"activity_count\": {\"$sum\": 1}}},\n",
    "            {\"$sort\": {\"activity_count\": -1}},\n",
    "            {\"$limit\": 20},\n",
    "        ]\n",
    "    )\n",
    ")\n",
    "\n",
    "print(\"Top 20 Users with Most Activities:\")\n",
    "\n",
    "for user in users_activities_count:\n",
    "    print(f\"User: {user['_id']}, Activities: {user['activity_count']}\")"
   ]
  },
  {
   "cell_type": "markdown",
   "metadata": {},
   "source": [
    "### Task 4\n",
    "Find all users who have taken a taxi. "
   ]
  },
  {
   "cell_type": "code",
   "execution_count": 39,
   "metadata": {},
   "outputs": [
    {
     "name": "stdout",
     "output_type": "stream",
     "text": [
      "Users who have taken a taxi:\n",
      "['010',\n",
      " '020',\n",
      " '021',\n",
      " '052',\n",
      " '056',\n",
      " '058',\n",
      " '062',\n",
      " '065',\n",
      " '068',\n",
      " '075',\n",
      " '078',\n",
      " '080',\n",
      " '082',\n",
      " '084',\n",
      " '085',\n",
      " '091',\n",
      " '098',\n",
      " '100',\n",
      " '102',\n",
      " '104',\n",
      " '105',\n",
      " '111',\n",
      " '114',\n",
      " '118',\n",
      " '126',\n",
      " '128',\n",
      " '139',\n",
      " '147',\n",
      " '153',\n",
      " '154',\n",
      " '161',\n",
      " '163',\n",
      " '167',\n",
      " '175',\n",
      " '179']\n"
     ]
    }
   ],
   "source": [
    "users_taken_taxi = db[\"ActivityCollection\"].distinct(\n",
    "    \"user\", {\"transportation_mode\": \"taxi\"}\n",
    ")\n",
    "\n",
    "print(\"Users who have taken a taxi:\")\n",
    "pprint(users_taken_taxi)"
   ]
  },
  {
   "cell_type": "markdown",
   "metadata": {},
   "source": [
    "### Task 5\n",
    "Find all types of transportation modes and count how many activities that are\n",
    "tagged with these transportation mode labels. Do not count the rows where\n",
    "the mode is null."
   ]
  },
  {
   "cell_type": "code",
   "execution_count": 28,
   "metadata": {},
   "outputs": [
    {
     "name": "stdout",
     "output_type": "stream",
     "text": [
      "Transportation Modes and Their Counts:\n",
      "Mode: boat, Count: 7\n",
      "Mode: taxi, Count: 1179\n",
      "Mode: bus, Count: 2851\n",
      "Mode: walk, Count: 6459\n",
      "Mode: train, Count: 299\n",
      "Mode: airplane, Count: 17\n",
      "Mode: bike, Count: 2089\n",
      "Mode: motorcycle, Count: 2\n",
      "Mode: subway, Count: 813\n",
      "Mode: run, Count: 6\n",
      "Mode: car, Count: 993\n"
     ]
    }
   ],
   "source": [
    "transportation_modes = list(\n",
    "    db[\"ActivityCollection\"].aggregate(\n",
    "        [\n",
    "            {\"$group\": {\"_id\": \"$transportation_mode\", \"count\": {\"$sum\": 1}}},\n",
    "            {\"$match\": {\"_id\": {\"$ne\": None}}},\n",
    "        ]\n",
    "    )\n",
    ")\n",
    "\n",
    "print(\"Transportation Modes and Their Counts:\")\n",
    "\n",
    "for mode in transportation_modes:\n",
    "    print(f\"Mode: {mode['_id']}, Count: {mode['count']}\")"
   ]
  },
  {
   "cell_type": "markdown",
   "metadata": {},
   "source": [
    "### Task 6"
   ]
  },
  {
   "cell_type": "markdown",
   "metadata": {},
   "source": [
    "#### a) Find the year with the most activities. "
   ]
  },
  {
   "cell_type": "code",
   "execution_count": 29,
   "metadata": {},
   "outputs": [
    {
     "name": "stdout",
     "output_type": "stream",
     "text": [
      "Year with most activities: 2008\n"
     ]
    }
   ],
   "source": [
    "year_most_activities = list(\n",
    "    db.ActivityCollection.aggregate(\n",
    "        [\n",
    "            {\"$project\": {\"year\": {\"$year\": \"$start_date_time\"}}},\n",
    "            {\"$group\": {\"_id\": \"$year\", \"activity_count\": {\"$sum\": 1}}},\n",
    "            {\"$sort\": {\"activity_count\": -1}},\n",
    "            {\"$limit\": 1},\n",
    "        ]\n",
    "    )\n",
    ")[0]\n",
    "\n",
    "print(f\"Year with most activities: {year_most_activities['_id']}\")"
   ]
  },
  {
   "cell_type": "markdown",
   "metadata": {},
   "source": [
    "#### b) Is this also the year with most recorded hours?"
   ]
  },
  {
   "cell_type": "markdown",
   "metadata": {},
   "source": [
    "This aggregation pipeline first calculates the number of hours for each activity by subtracting the start_date_time from the end_date_time (resulting in a duration in milliseconds) and then dividing by the number of milliseconds in an hour (3,600,000). It then groups the data by year and sums the total hours, sorts by total hours in descending order, and limits the results to the year with the highest number of hours."
   ]
  },
  {
   "cell_type": "code",
   "execution_count": 31,
   "metadata": {},
   "outputs": [
    {
     "name": "stdout",
     "output_type": "stream",
     "text": [
      "Year with most recorded hours: 2008, Hours: 7421.26\n"
     ]
    }
   ],
   "source": [
    "year_most_hours = list(\n",
    "    db.ActivityCollection.aggregate(\n",
    "        [\n",
    "            {\n",
    "                \"$project\": {\n",
    "                    \"year\": {\"$year\": \"$start_date_time\"},\n",
    "                    \"hours\": {\n",
    "                        \"$divide\": [\n",
    "                            {\"$subtract\": [\"$end_date_time\", \"$start_date_time\"]},\n",
    "                            3600000,  # Number of milliseconds in an hour\n",
    "                        ]\n",
    "                    },\n",
    "                }\n",
    "            },\n",
    "            {\"$group\": {\"_id\": \"$year\", \"total_hours\": {\"$sum\": \"$hours\"}}},\n",
    "            {\"$sort\": {\"total_hours\": -1}},\n",
    "            {\"$limit\": 1},\n",
    "        ]\n",
    "    )\n",
    ")[0]\n",
    "\n",
    "print(\n",
    "    f\"Year with most recorded hours: {year_most_hours['_id']}, Hours: {year_most_hours['total_hours']:.2f}\"\n",
    ")"
   ]
  },
  {
   "cell_type": "markdown",
   "metadata": {},
   "source": [
    "### Task 7\n",
    "Find the total distance (in km) walked in 2008, by user with id=112."
   ]
  },
  {
   "cell_type": "code",
   "execution_count": 35,
   "metadata": {},
   "outputs": [
    {
     "name": "stdout",
     "output_type": "stream",
     "text": [
      "Total distance walked by user 112 in 2008: 223.15 km\n"
     ]
    }
   ],
   "source": [
    "user_id = \"112\"\n",
    "activities_for_user = db.ActivityCollection.find({\n",
    "    \"user\": user_id,\n",
    "    \"transportation_mode\": \"walk\",\n",
    "    \"start_date_time\": {\"$gte\": datetime(2008, 1, 1), \"$lt\": datetime(2009, 1, 1)}\n",
    "})\n",
    "\n",
    "total_distance = 0.0\n",
    "\n",
    "for activity in activities_for_user:\n",
    "    track_points = activity[\"track_points\"]\n",
    "    \n",
    "    # Split track points into latitudes, longitudes for easier computation\n",
    "    lats = np.array([point[\"latitude\"] for point in track_points])\n",
    "    longs = np.array([point[\"longitude\"] for point in track_points])\n",
    "    \n",
    "    # Calculate the haversine distance for each consecutive track point and sum them up\n",
    "    total_distance += np.sum(haversine_np(longs[:-1], lats[:-1], longs[1:], lats[1:]))\n",
    "\n",
    "print(f\"Total distance walked by user {user_id} in 2008: {total_distance:.2f} km\")\n"
   ]
  },
  {
   "cell_type": "markdown",
   "metadata": {},
   "source": [
    "### Task 8\n",
    "Find the top 20 users who have gained the most altitude meters.\n",
    "- Output should be a field with (id, total meters gained per user).\n",
    "- Remember that some altitude-values are invalid"
   ]
  },
  {
   "cell_type": "code",
   "execution_count": 36,
   "metadata": {},
   "outputs": [
    {
     "name": "stdout",
     "output_type": "stream",
     "text": [
      "User ID: 128, Altitude Gain: 873882.6328083987 meters\n",
      "User ID: 085, Altitude Gain: 852330 meters\n",
      "User ID: 062, Altitude Gain: 500368.4000000001 meters\n",
      "User ID: 084, Altitude Gain: 435454 meters\n",
      "User ID: 167, Altitude Gain: 426178.593175853 meters\n",
      "User ID: 153, Altitude Gain: 370663.81679790025 meters\n",
      "User ID: 052, Altitude Gain: 268203 meters\n",
      "User ID: 126, Altitude Gain: 180439.95013123358 meters\n",
      "User ID: 163, Altitude Gain: 164278.3812237533 meters\n",
      "User ID: 010, Altitude Gain: 163642 meters\n",
      "User ID: 179, Altitude Gain: 150679 meters\n",
      "User ID: 115, Altitude Gain: 107619.45616797873 meters\n",
      "User ID: 125, Altitude Gain: 99607.20997375328 meters\n",
      "User ID: 096, Altitude Gain: 77246 meters\n",
      "User ID: 082, Altitude Gain: 75699 meters\n",
      "User ID: 106, Altitude Gain: 65685.6955380578 meters\n",
      "User ID: 064, Altitude Gain: 49868 meters\n",
      "User ID: 081, Altitude Gain: 40373.209973753284 meters\n",
      "User ID: 111, Altitude Gain: 32975.721784776884 meters\n",
      "User ID: 105, Altitude Gain: 29294.61942257217 meters\n"
     ]
    }
   ],
   "source": [
    "def calculate_altitude_gain(track_points):\n",
    "    \"\"\"\n",
    "    Calculate the altitude gain from a list of track points.\n",
    "    \"\"\"\n",
    "    total_gain = 0\n",
    "    for i in range(1, len(track_points)):\n",
    "        altitude_difference = track_points[i]['altitude'] - track_points[i-1]['altitude']\n",
    "        if altitude_difference > 0:\n",
    "            total_gain += altitude_difference\n",
    "    return total_gain\n",
    "\n",
    "def top_users_by_altitude_gain():\n",
    "    # Connect to the MongoDB instance\n",
    "    activity_collection = db['ActivityCollection']\n",
    "\n",
    "    user_altitude_gains = {}\n",
    "\n",
    "    # Iterate over all activities in the ActivityCollection\n",
    "    for activity in activity_collection.find():\n",
    "        user = activity['user']\n",
    "        altitude_gain = calculate_altitude_gain(activity['track_points'])\n",
    "        \n",
    "        if user in user_altitude_gains:\n",
    "            user_altitude_gains[user] += altitude_gain\n",
    "        else:\n",
    "            user_altitude_gains[user] = altitude_gain\n",
    "\n",
    "    # Sort users by their total altitude gain\n",
    "    sorted_users = sorted(user_altitude_gains.items(), key=lambda x: x[1], reverse=True)\n",
    "\n",
    "    # Get top 20 users\n",
    "    top_20_users = sorted_users[:20]\n",
    "\n",
    "    for user, gain in top_20_users:\n",
    "        print(f\"User ID: {user}, Altitude Gain: {gain} meters\")\n",
    "\n",
    "top_users_by_altitude_gain()\n"
   ]
  },
  {
   "cell_type": "markdown",
   "metadata": {},
   "source": [
    "### Task 9\n",
    "Find all users who have invalid activities, and the number of invalid activities\n",
    "per user.\n",
    "- An invalid activity is defined as an activity with consecutive trackpoints\n",
    "where the timestamps deviate with at least 5 minutes. "
   ]
  },
  {
   "cell_type": "code",
   "execution_count": 40,
   "metadata": {},
   "outputs": [
    {
     "name": "stdout",
     "output_type": "stream",
     "text": [
      "User ID: 161, Invalid Activities: 2\n",
      "User ID: 102, Invalid Activities: 9\n",
      "User ID: 105, Invalid Activities: 14\n",
      "User ID: 167, Invalid Activities: 135\n",
      "User ID: 084, Invalid Activities: 155\n",
      "User ID: 085, Invalid Activities: 219\n",
      "User ID: 082, Invalid Activities: 15\n",
      "User ID: 076, Invalid Activities: 7\n",
      "User ID: 078, Invalid Activities: 7\n",
      "User ID: 065, Invalid Activities: 23\n",
      "User ID: 091, Invalid Activities: 12\n",
      "User ID: 096, Invalid Activities: 10\n",
      "User ID: 062, Invalid Activities: 184\n",
      "User ID: 053, Invalid Activities: 8\n",
      "User ID: 098, Invalid Activities: 7\n",
      "User ID: 052, Invalid Activities: 117\n",
      "User ID: 097, Invalid Activities: 14\n",
      "User ID: 064, Invalid Activities: 9\n",
      "User ID: 174, Invalid Activities: 2\n",
      "User ID: 129, Invalid Activities: 5\n",
      "User ID: 111, Invalid Activities: 10\n",
      "User ID: 144, Invalid Activities: 5\n",
      "User ID: 175, Invalid Activities: 5\n",
      "User ID: 126, Invalid Activities: 97\n",
      "User ID: 128, Invalid Activities: 238\n",
      "User ID: 117, Invalid Activities: 1\n",
      "User ID: 153, Invalid Activities: 148\n",
      "User ID: 154, Invalid Activities: 10\n",
      "User ID: 107, Invalid Activities: 1\n",
      "User ID: 138, Invalid Activities: 2\n",
      "User ID: 163, Invalid Activities: 79\n",
      "User ID: 106, Invalid Activities: 3\n",
      "User ID: 139, Invalid Activities: 12\n",
      "User ID: 101, Invalid Activities: 1\n",
      "User ID: 108, Invalid Activities: 7\n",
      "User ID: 089, Invalid Activities: 17\n",
      "User ID: 087, Invalid Activities: 2\n",
      "User ID: 073, Invalid Activities: 7\n",
      "User ID: 080, Invalid Activities: 4\n",
      "User ID: 020, Invalid Activities: 26\n",
      "User ID: 081, Invalid Activities: 11\n",
      "User ID: 075, Invalid Activities: 4\n",
      "User ID: 086, Invalid Activities: 6\n",
      "User ID: 010, Invalid Activities: 53\n",
      "User ID: 021, Invalid Activities: 12\n",
      "User ID: 092, Invalid Activities: 4\n",
      "User ID: 068, Invalid Activities: 128\n",
      "User ID: 056, Invalid Activities: 3\n",
      "User ID: 069, Invalid Activities: 7\n",
      "User ID: 067, Invalid Activities: 32\n",
      "User ID: 058, Invalid Activities: 6\n",
      "User ID: 060, Invalid Activities: 1\n",
      "User ID: 112, Invalid Activities: 31\n",
      "User ID: 115, Invalid Activities: 45\n",
      "User ID: 170, Invalid Activities: 2\n",
      "User ID: 141, Invalid Activities: 8\n",
      "User ID: 179, Invalid Activities: 53\n",
      "User ID: 125, Invalid Activities: 13\n",
      "User ID: 114, Invalid Activities: 2\n"
     ]
    }
   ],
   "source": [
    "def has_invalid_activity(track_points):\n",
    "    \"\"\"\n",
    "    Check if the activity has any consecutive trackpoints with a timestamp deviation of at least 5 minutes.\n",
    "    \"\"\"\n",
    "    for i in range(1, len(track_points)):\n",
    "        time_difference = track_points[i]['date_time'] - track_points[i-1]['date_time']\n",
    "        if time_difference >= timedelta(minutes=5):\n",
    "            return True\n",
    "    return False\n",
    "\n",
    "def users_with_invalid_activities():\n",
    "    # Connect to the MongoDB instance\n",
    "    activity_collection = db['ActivityCollection']\n",
    "\n",
    "    user_invalid_activity_counts = {}\n",
    "\n",
    "    # Iterate over all activities in the ActivityCollection\n",
    "    for activity in activity_collection.find():\n",
    "        user = activity['user']\n",
    "        if has_invalid_activity(activity['track_points']):\n",
    "            if user in user_invalid_activity_counts:\n",
    "                user_invalid_activity_counts[user] += 1\n",
    "            else:\n",
    "                user_invalid_activity_counts[user] = 1\n",
    "\n",
    "    # Filter for users with at least one invalid activity\n",
    "    users_with_invalids = {user: count for user, count in user_invalid_activity_counts.items() if count > 0}\n",
    "\n",
    "    for user, invalid_count in users_with_invalids.items():\n",
    "        print(f\"User ID: {user}, Invalid Activities: {invalid_count}\")\n",
    "\n",
    "users_with_invalid_activities()"
   ]
  },
  {
   "cell_type": "markdown",
   "metadata": {},
   "source": [
    "### Task 10\n",
    "Find the users who have tracked an activity in the Forbidden City of Beijing.\n",
    "- In this question you can consider the Forbidden City to have\n",
    "coordinates that correspond to: lat 39.916, lon 116.397."
   ]
  },
  {
   "cell_type": "code",
   "execution_count": 155,
   "metadata": {},
   "outputs": [
    {
     "data": {
      "text/plain": [
       "['018', '019']"
      ]
     },
     "execution_count": 155,
     "metadata": {},
     "output_type": "execute_result"
    }
   ],
   "source": [
    "coordinates = {\"latitude\": 39.916, \"longitude\": 116.397}\n",
    "\n",
    "pipeline = [\n",
    "    {\"$unwind\": \"$track_points\"},\n",
    "    {\n",
    "        \"$match\": {\n",
    "            \"track_points.latitude\": {\n",
    "                \"$gte\": coordinates[\"latitude\"],\n",
    "                \"$lte\": coordinates[\"latitude\"] + 0.001,\n",
    "            },\n",
    "            \"track_points.longitude\": {\n",
    "                \"$gte\": coordinates[\"longitude\"],\n",
    "                \"$lte\": coordinates[\"longitude\"] + 0.001,\n",
    "            },\n",
    "        }\n",
    "    },\n",
    "    {\"$group\": {\"_id\": \"$user\"}},\n",
    "]\n",
    "\n",
    "output = db.ActivityCollection.aggregate(pipeline)\n",
    "output = [user[\"_id\"] for user in output]\n",
    "output"
   ]
  },
  {
   "cell_type": "markdown",
   "metadata": {},
   "source": [
    "### Task 11\n",
    "Find all users who have registered transportation_mode and their most used\n",
    "transportation_mode. \n",
    "- The answer should be on format (user_id,\n",
    "most_used_transportation_mode) sorted on user_id.\n",
    "- Some users may have the same number of activities tagged with e.g.\n",
    "walk and car. In this case it is up to you to decide which transportation\n",
    "mode to include in your answer (choose one).\n",
    "- Do not count the rows where the mode is null."
   ]
  },
  {
   "cell_type": "code",
   "execution_count": 52,
   "metadata": {},
   "outputs": [
    {
     "name": "stdout",
     "output_type": "stream",
     "text": [
      "Users and their most used transportation mode:\n",
      "User: 104, Most Used Mode: bus\n",
      "User: 161, Most Used Mode: walk\n",
      "User: 102, Most Used Mode: walk\n",
      "User: 105, Most Used Mode: walk\n",
      "User: 167, Most Used Mode: walk\n",
      "User: 084, Most Used Mode: walk\n",
      "User: 085, Most Used Mode: walk\n",
      "User: 082, Most Used Mode: walk\n",
      "User: 076, Most Used Mode: car\n",
      "User: 078, Most Used Mode: walk\n",
      "User: 065, Most Used Mode: bike\n",
      "User: 091, Most Used Mode: walk\n",
      "User: 096, Most Used Mode: bike\n",
      "User: 062, Most Used Mode: bus\n",
      "User: 053, Most Used Mode: walk\n",
      "User: 098, Most Used Mode: walk\n",
      "User: 052, Most Used Mode: bus\n",
      "User: 097, Most Used Mode: bike\n",
      "User: 064, Most Used Mode: walk\n",
      "User: 174, Most Used Mode: car\n",
      "User: 129, Most Used Mode: walk\n",
      "User: 116, Most Used Mode: bike\n",
      "User: 111, Most Used Mode: taxi\n",
      "User: 118, Most Used Mode: car\n",
      "User: 144, Most Used Mode: car\n",
      "User: 175, Most Used Mode: walk\n",
      "User: 126, Most Used Mode: walk\n",
      "User: 110, Most Used Mode: walk\n",
      "User: 128, Most Used Mode: car\n",
      "User: 117, Most Used Mode: walk\n",
      "User: 153, Most Used Mode: walk\n",
      "User: 154, Most Used Mode: walk\n",
      "User: 136, Most Used Mode: walk\n",
      "User: 100, Most Used Mode: walk\n",
      "User: 107, Most Used Mode: walk\n",
      "User: 138, Most Used Mode: walk\n",
      "User: 163, Most Used Mode: walk\n",
      "User: 106, Most Used Mode: car\n",
      "User: 139, Most Used Mode: walk\n",
      "User: 101, Most Used Mode: car\n",
      "User: 108, Most Used Mode: walk\n",
      "User: 089, Most Used Mode: car\n",
      "User: 087, Most Used Mode: walk\n",
      "User: 073, Most Used Mode: walk\n",
      "User: 080, Most Used Mode: walk\n",
      "User: 020, Most Used Mode: bike\n",
      "User: 081, Most Used Mode: walk\n",
      "User: 075, Most Used Mode: walk\n",
      "User: 086, Most Used Mode: car\n",
      "User: 010, Most Used Mode: walk\n",
      "User: 021, Most Used Mode: car\n",
      "User: 092, Most Used Mode: walk\n",
      "User: 068, Most Used Mode: bike\n",
      "User: 056, Most Used Mode: bike\n",
      "User: 069, Most Used Mode: walk\n",
      "User: 067, Most Used Mode: walk\n",
      "User: 058, Most Used Mode: walk\n",
      "User: 060, Most Used Mode: walk\n",
      "User: 112, Most Used Mode: walk\n",
      "User: 115, Most Used Mode: car\n",
      "User: 170, Most Used Mode: walk\n",
      "User: 141, Most Used Mode: walk\n",
      "User: 179, Most Used Mode: walk\n",
      "User: 125, Most Used Mode: bike\n",
      "User: 114, Most Used Mode: taxi\n",
      "User: 147, Most Used Mode: walk\n"
     ]
    }
   ],
   "source": [
    "users_most_used_mode = {}\n",
    "all_users = db.UserCollection.find({})\n",
    "\n",
    "for user in all_users:\n",
    "    user_id = user['_id']\n",
    "    user_activities = list(db.ActivityCollection.find({'user': user_id, 'transportation_mode': {'$ne': None}}))\n",
    "    modes = [activity['transportation_mode'] for activity in user_activities]\n",
    "\n",
    "    modes_count = Counter(modes)\n",
    "    if modes_count:\n",
    "        users_most_used_mode[user_id] = modes_count.most_common(1)[0][0]\n",
    "\n",
    "print(\"Users and their most used transportation mode:\")\n",
    "\n",
    "for user, mode in users_most_used_mode.items():\n",
    "    print(f\"User: {user}, Most Used Mode: {mode}\")"
   ]
  },
  {
   "cell_type": "markdown",
   "metadata": {},
   "source": [
    "----"
   ]
  },
  {
   "cell_type": "code",
   "execution_count": 5,
   "metadata": {},
   "outputs": [
    {
     "name": "stdout",
     "output_type": "stream",
     "text": [
      "\n",
      "-----------------------------------------------\n",
      "Connection to mongodb-db is closed\n"
     ]
    }
   ],
   "source": [
    "connector.close_connection()"
   ]
  }
 ],
 "metadata": {
  "kernelspec": {
   "display_name": "mysql",
   "language": "python",
   "name": "python3"
  },
  "language_info": {
   "codemirror_mode": {
    "name": "ipython",
    "version": 3
   },
   "file_extension": ".py",
   "mimetype": "text/x-python",
   "name": "python",
   "nbconvert_exporter": "python",
   "pygments_lexer": "ipython3",
   "version": "3.11.5"
  },
  "orig_nbformat": 4
 },
 "nbformat": 4,
 "nbformat_minor": 2
}
